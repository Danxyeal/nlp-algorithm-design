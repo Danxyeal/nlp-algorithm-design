{
 "cells": [
  {
   "cell_type": "code",
   "execution_count": 42,
   "metadata": {},
   "outputs": [
    {
     "name": "stdout",
     "output_type": "stream",
     "text": [
      "None\n"
     ]
    },
    {
     "ename": "TypeError",
     "evalue": "'NoneType' object is not iterable",
     "output_type": "error",
     "traceback": [
      "\u001b[0;31m---------------------------------------------------------------------------\u001b[0m",
      "\u001b[0;31mTypeError\u001b[0m                                 Traceback (most recent call last)",
      "\u001b[0;32m<ipython-input-42-e97418ddd879>\u001b[0m in \u001b[0;36m<module>\u001b[0;34m\u001b[0m\n\u001b[1;32m     41\u001b[0m \u001b[0;34m\u001b[0m\u001b[0m\n\u001b[1;32m     42\u001b[0m \u001b[0mfilename\u001b[0m \u001b[0;34m=\u001b[0m \u001b[0;34m'proj_files/asus_mb16ac.html'\u001b[0m\u001b[0;34m\u001b[0m\u001b[0;34m\u001b[0m\u001b[0m\n\u001b[0;32m---> 43\u001b[0;31m \u001b[0mhtml_file\u001b[0m \u001b[0;34m=\u001b[0m \u001b[0mclean_file\u001b[0m\u001b[0;34m(\u001b[0m\u001b[0mfilename\u001b[0m\u001b[0;34m)\u001b[0m\u001b[0;34m\u001b[0m\u001b[0;34m\u001b[0m\u001b[0m\n\u001b[0m\u001b[1;32m     44\u001b[0m \u001b[0mprint\u001b[0m\u001b[0;34m(\u001b[0m\u001b[0mhtml_file\u001b[0m\u001b[0;34m)\u001b[0m\u001b[0;34m\u001b[0m\u001b[0;34m\u001b[0m\u001b[0m\n\u001b[1;32m     45\u001b[0m \u001b[0msoup\u001b[0m \u001b[0;34m=\u001b[0m \u001b[0mBeautifulSoup\u001b[0m\u001b[0;34m(\u001b[0m\u001b[0mhtml_file\u001b[0m\u001b[0;34m,\u001b[0m \u001b[0;34m'lxml'\u001b[0m\u001b[0;34m)\u001b[0m\u001b[0;34m\u001b[0m\u001b[0;34m\u001b[0m\u001b[0m\n",
      "\u001b[0;32m<ipython-input-42-e97418ddd879>\u001b[0m in \u001b[0;36mclean_file\u001b[0;34m(filename)\u001b[0m\n\u001b[1;32m     37\u001b[0m     \u001b[0;32mwith\u001b[0m \u001b[0mopen\u001b[0m\u001b[0;34m(\u001b[0m\u001b[0mfilename\u001b[0m\u001b[0;34m,\u001b[0m \u001b[0;34m'r'\u001b[0m\u001b[0;34m)\u001b[0m \u001b[0;32mas\u001b[0m \u001b[0mhtml_file\u001b[0m\u001b[0;34m:\u001b[0m\u001b[0;34m\u001b[0m\u001b[0;34m\u001b[0m\u001b[0m\n\u001b[1;32m     38\u001b[0m         \u001b[0mLines\u001b[0m \u001b[0;34m=\u001b[0m \u001b[0mhtml_file\u001b[0m\u001b[0;34m.\u001b[0m\u001b[0mreadlines\u001b[0m\u001b[0;34m(\u001b[0m\u001b[0;34m)\u001b[0m\u001b[0;34m\u001b[0m\u001b[0;34m\u001b[0m\u001b[0m\n\u001b[0;32m---> 39\u001b[0;31m         \u001b[0mlean_line_list\u001b[0m \u001b[0;34m=\u001b[0m \u001b[0mstrip_newlines\u001b[0m\u001b[0;34m(\u001b[0m\u001b[0mLines\u001b[0m\u001b[0;34m)\u001b[0m\u001b[0;34m\u001b[0m\u001b[0;34m\u001b[0m\u001b[0m\n\u001b[0m\u001b[1;32m     40\u001b[0m         \u001b[0;32mreturn\u001b[0m \u001b[0msift_tags_down\u001b[0m\u001b[0;34m(\u001b[0m\u001b[0mlean_line_list\u001b[0m\u001b[0;34m)\u001b[0m\u001b[0;34m\u001b[0m\u001b[0;34m\u001b[0m\u001b[0m\n\u001b[1;32m     41\u001b[0m \u001b[0;34m\u001b[0m\u001b[0m\n",
      "\u001b[0;32m<ipython-input-42-e97418ddd879>\u001b[0m in \u001b[0;36mstrip_newlines\u001b[0;34m(Lines)\u001b[0m\n\u001b[1;32m     28\u001b[0m         \u001b[0mline\u001b[0m \u001b[0;34m=\u001b[0m \u001b[0mremove_meaningless_newlines\u001b[0m\u001b[0;34m(\u001b[0m\u001b[0mline\u001b[0m\u001b[0;34m)\u001b[0m\u001b[0;34m\u001b[0m\u001b[0;34m\u001b[0m\u001b[0m\n\u001b[1;32m     29\u001b[0m         \u001b[0mprint\u001b[0m\u001b[0;34m(\u001b[0m\u001b[0mline\u001b[0m\u001b[0;34m)\u001b[0m\u001b[0;34m\u001b[0m\u001b[0;34m\u001b[0m\u001b[0m\n\u001b[0;32m---> 30\u001b[0;31m         \u001b[0mline\u001b[0m \u001b[0;34m=\u001b[0m \u001b[0msift_tags_down\u001b[0m\u001b[0;34m(\u001b[0m\u001b[0mline\u001b[0m\u001b[0;34m)\u001b[0m\u001b[0;34m\u001b[0m\u001b[0;34m\u001b[0m\u001b[0m\n\u001b[0m\u001b[1;32m     31\u001b[0m         \u001b[0mprint\u001b[0m\u001b[0;34m(\u001b[0m\u001b[0mline\u001b[0m\u001b[0;34m)\u001b[0m\u001b[0;34m\u001b[0m\u001b[0;34m\u001b[0m\u001b[0m\n\u001b[1;32m     32\u001b[0m         \u001b[0mline_list\u001b[0m\u001b[0;34m.\u001b[0m\u001b[0mappend\u001b[0m\u001b[0;34m(\u001b[0m\u001b[0mline\u001b[0m\u001b[0;34m)\u001b[0m\u001b[0;34m\u001b[0m\u001b[0;34m\u001b[0m\u001b[0m\n",
      "\u001b[0;32m<ipython-input-42-e97418ddd879>\u001b[0m in \u001b[0;36msift_tags_down\u001b[0;34m(line)\u001b[0m\n\u001b[1;32m      6\u001b[0m \u001b[0;32mdef\u001b[0m \u001b[0msift_tags_down\u001b[0m\u001b[0;34m(\u001b[0m\u001b[0mline\u001b[0m\u001b[0;34m)\u001b[0m\u001b[0;34m:\u001b[0m\u001b[0;34m\u001b[0m\u001b[0;34m\u001b[0m\u001b[0m\n\u001b[1;32m      7\u001b[0m     \u001b[0mtemp\u001b[0m \u001b[0;34m=\u001b[0m \u001b[0;34m''\u001b[0m\u001b[0;34m\u001b[0m\u001b[0;34m\u001b[0m\u001b[0m\n\u001b[0;32m----> 8\u001b[0;31m     \u001b[0;32mfor\u001b[0m \u001b[0mchar\u001b[0m \u001b[0;32min\u001b[0m \u001b[0mline\u001b[0m\u001b[0;34m:\u001b[0m\u001b[0;34m\u001b[0m\u001b[0;34m\u001b[0m\u001b[0m\n\u001b[0m\u001b[1;32m      9\u001b[0m         \u001b[0;32mif\u001b[0m \u001b[0mchar\u001b[0m \u001b[0;34m==\u001b[0m \u001b[0;34m'<'\u001b[0m\u001b[0;34m:\u001b[0m\u001b[0;34m\u001b[0m\u001b[0;34m\u001b[0m\u001b[0m\n\u001b[1;32m     10\u001b[0m             \u001b[0mtemp\u001b[0m \u001b[0;34m+=\u001b[0m \u001b[0;34m'\\n<'\u001b[0m\u001b[0;34m\u001b[0m\u001b[0;34m\u001b[0m\u001b[0m\n",
      "\u001b[0;31mTypeError\u001b[0m: 'NoneType' object is not iterable"
     ]
    }
   ],
   "source": [
    "from bs4 import BeautifulSoup\n",
    "import pprint\n",
    "\n",
    "pp = pprint.PrettyPrinter(indent=2)\n",
    "\n",
    "def sift_tags_down(line):\n",
    "    temp = ''\n",
    "    for char in line:\n",
    "        if char == '<':\n",
    "            temp += '\\n<'\n",
    "        else:\n",
    "            temp += char\n",
    "    return temp\n",
    "    \n",
    "def remove_meaningless_newlines(line):\n",
    "    for i in range(0, len(line)):\n",
    "        if not i+2 > len(line):\n",
    "            if line[i] == '\\n' and line[i+1] == '<':\n",
    "                return line[i]\n",
    "            elif line[i] == '\\n':\n",
    "                return ''\n",
    "            else:\n",
    "                return line[i]\n",
    "\n",
    "def strip_newlines(Lines):\n",
    "    line_list = []\n",
    "    for line in Lines:\n",
    "        line = remove_meaningless_newlines(line)\n",
    "        line = sift_tags_down(line)\n",
    "        line_list.append(line)\n",
    "    print(line_list)\n",
    "    return line_list\n",
    "\n",
    "def clean_file(filename):\n",
    "    with open(filename, 'r') as html_file:\n",
    "        Lines = html_file.readlines()\n",
    "        lean_line_list = strip_newlines(Lines)\n",
    "        return sift_tags_down(lean_line_list)\n",
    "           \n",
    "filename = 'proj_files/asus_mb16ac.html'\n",
    "html_file = clean_file(filename)\n",
    "print(html_file)\n",
    "soup = BeautifulSoup(html_file, 'lxml')\n",
    "print(type(soup)) \n",
    "print(soup)"
   ]
  },
  {
   "cell_type": "code",
   "execution_count": 24,
   "metadata": {},
   "outputs": [
    {
     "name": "stdout",
     "output_type": "stream",
     "text": [
      "<class 'NoneType'>\n"
     ]
    }
   ],
   "source": [
    "spec_sect = soup.find_all('div', id='specifications')\n",
    "# type(spec_sect) <class 'bs4.element.ResultSet'>\n",
    "# find_all() method gets a list/array of matches.\n",
    "# Can also, in this case use find() take the div alone\n",
    "# Note it is not text:\n",
    "print(type(soup.find(id='specifications')))"
   ]
  },
  {
   "cell_type": "code",
   "execution_count": 25,
   "metadata": {},
   "outputs": [
    {
     "name": "stdout",
     "output_type": "stream",
     "text": [
      "list_all: 0\n",
      "html_tags: 0\n",
      "all_attrs: 0\n",
      "all_text: 0\n"
     ]
    }
   ],
   "source": [
    "product_dictionary = {} # Will get filled with specs\n",
    "list_all = soup.find_all()\n",
    "# Get all the tags in order --> list\n",
    "html_tags = [tag.name for tag in soup.find_all()]\n",
    "# Get all the text in order --> list\n",
    "all_text = [tag.text for tag in soup.find_all()]\n",
    "# Get all the html tag attributes --> list\n",
    "all_attrs = [tag.attrs for tag in soup.find_all()]\n",
    "print('list_all:',len(list_all)) # list_all: 103\n",
    "print('html_tags:',len(html_tags)) # html_tags: 103\n",
    "print('all_attrs:',len(all_attrs)) # all_attrs: 103\n",
    "print('all_text:',len(all_text)) # all_text: 103\n",
    "# Zip them all together in the order they appear\n",
    "zipped_list = []\n",
    "for i in range(0, len(list_all)):\n",
    "    text = all_text[i].replace('\\n', '')\n",
    "    zipped_list.append((i+1, html_tags[i], all_attrs[i], text))\n",
    "for x in zipped_list:\n",
    "    print(x)\n",
    "    print('---------------------------')"
   ]
  },
  {
   "cell_type": "code",
   "execution_count": null,
   "metadata": {},
   "outputs": [],
   "source": []
  }
 ],
 "metadata": {
  "kernelspec": {
   "display_name": "Python 3",
   "language": "python",
   "name": "python3"
  },
  "language_info": {
   "codemirror_mode": {
    "name": "ipython",
    "version": 3
   },
   "file_extension": ".py",
   "mimetype": "text/x-python",
   "name": "python",
   "nbconvert_exporter": "python",
   "pygments_lexer": "ipython3",
   "version": "3.8.6"
  }
 },
 "nbformat": 4,
 "nbformat_minor": 4
}
