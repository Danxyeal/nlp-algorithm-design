{
 "cells": [
  {
   "cell_type": "code",
   "execution_count": 33,
   "metadata": {},
   "outputs": [],
   "source": [
    "from bs4 import BeautifulSoup\n",
    "import pprint\n",
    "pp = pprint.PrettyPrinter(indent=2)\n",
    "\n",
    "def perform():\n",
    "    pass\n",
    "\n",
    "with open('proj_files/asus_mb16ac.html', 'r') as html_file:\n",
    "    spec = BeautifulSoup(html_file, 'lxml').find('div', id='specifications')"
   ]
  },
  {
   "cell_type": "code",
   "execution_count": 43,
   "metadata": {},
   "outputs": [
    {
     "name": "stdout",
     "output_type": "stream",
     "text": [
      "ok\n",
      "[]\n",
      "[]\n",
      "[]\n",
      "[]\n",
      "[]\n",
      "[]\n",
      "[]\n",
      "[]\n",
      "[]\n",
      "[]\n",
      "[]\n",
      "[]\n",
      "[]\n",
      "[]\n",
      "[]\n",
      "[]\n",
      "[]\n",
      "[]\n",
      "[]\n",
      "[]\n",
      "[]\n",
      "[]\n",
      "ok\n",
      "[]\n",
      "[]\n",
      "[]\n",
      "[]\n",
      "[]\n",
      "[]\n"
     ]
    }
   ],
   "source": [
    "spec = str(spec)\n",
    "t = []\n",
    "tags = []\n",
    "in_tag = False\n",
    "for i in range(0, len(spec)):\n",
    "    cchar = spec[i]\n",
    "    if not in_tag and cchar == '<':\n",
    "        in_tag = True\n",
    "        temp = [spec[i+1]]\n",
    "        # if NOT at 3 near end of string\n",
    "        if not i+3 > len(spec) :\n",
    "            if not spec[i+2] == ' ':\n",
    "                temp.append(spec[i+2])\n",
    "            if not spec[i+3] == ' ':\n",
    "                temp.append(spec[i+3])\n",
    "        tags.append(temp)\n",
    "        print('ok')\n",
    "        in_tag = False\n",
    "    \n",
    "    print(t)\n",
    "    "
   ]
  },
  {
   "cell_type": "code",
   "execution_count": null,
   "metadata": {},
   "outputs": [],
   "source": []
  },
  {
   "cell_type": "code",
   "execution_count": null,
   "metadata": {},
   "outputs": [],
   "source": []
  }
 ],
 "metadata": {
  "kernelspec": {
   "display_name": "Python 3",
   "language": "python",
   "name": "python3"
  },
  "language_info": {
   "codemirror_mode": {
    "name": "ipython",
    "version": 3
   },
   "file_extension": ".py",
   "mimetype": "text/x-python",
   "name": "python",
   "nbconvert_exporter": "python",
   "pygments_lexer": "ipython3",
   "version": "3.8.6"
  }
 },
 "nbformat": 4,
 "nbformat_minor": 4
}
