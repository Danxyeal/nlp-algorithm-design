{
 "cells": [
  {
   "cell_type": "code",
   "execution_count": 7,
   "metadata": {},
   "outputs": [
    {
     "name": "stdout",
     "output_type": "stream",
     "text": [
      "(\"<_io.TextIOWrapper name='proj_files/asus_mb16ac.html' mode='r'\\n\"\n",
      " \"encoding='UTF-8'>\\n\"\n",
      " '\\n')\n"
     ]
    }
   ],
   "source": [
    "from bs4 import BeautifulSoup\n",
    "import html2text\n",
    "import pprint\n",
    "\n",
    "pp = pprint.PrettyPrinter(indent=2)\n",
    "\n",
    "filename = 'proj_files/asus_mb16ac.html'\n",
    "with open(filename, 'r') as html:\n",
    "    pp.pprint(html2text.html2text(str(html)))"
   ]
  },
  {
   "cell_type": "code",
   "execution_count": 24,
   "metadata": {},
   "outputs": [
    {
     "name": "stdout",
     "output_type": "stream",
     "text": [
      "<class 'NoneType'>\n"
     ]
    }
   ],
   "source": [
    "spec_sect = soup.find_all('div', id='specifications')\n",
    "# type(spec_sect) <class 'bs4.element.ResultSet'>\n",
    "# find_all() method gets a list/array of matches.\n",
    "# Can also, in this case use find() take the div alone\n",
    "# Note it is not text:\n",
    "print(type(soup.find(id='specifications')))"
   ]
  },
  {
   "cell_type": "code",
   "execution_count": 25,
   "metadata": {},
   "outputs": [
    {
     "name": "stdout",
     "output_type": "stream",
     "text": [
      "list_all: 0\n",
      "html_tags: 0\n",
      "all_attrs: 0\n",
      "all_text: 0\n"
     ]
    }
   ],
   "source": [
    "product_dictionary = {} # Will get filled with specs\n",
    "list_all = soup.find_all()\n",
    "# Get all the tags in order --> list\n",
    "html_tags = [tag.name for tag in soup.find_all()]\n",
    "# Get all the text in order --> list\n",
    "all_text = [tag.text for tag in soup.find_all()]\n",
    "# Get all the html tag attributes --> list\n",
    "all_attrs = [tag.attrs for tag in soup.find_all()]\n",
    "print('list_all:',len(list_all)) # list_all: 103\n",
    "print('html_tags:',len(html_tags)) # html_tags: 103\n",
    "print('all_attrs:',len(all_attrs)) # all_attrs: 103\n",
    "print('all_text:',len(all_text)) # all_text: 103\n",
    "# Zip them all together in the order they appear\n",
    "zipped_list = []\n",
    "for i in range(0, len(list_all)):\n",
    "    text = all_text[i].replace('\\n', '')\n",
    "    zipped_list.append((i+1, html_tags[i], all_attrs[i], text))\n",
    "for x in zipped_list:\n",
    "    print(x)\n",
    "    print('---------------------------')"
   ]
  },
  {
   "cell_type": "code",
   "execution_count": null,
   "metadata": {},
   "outputs": [],
   "source": []
  }
 ],
 "metadata": {
  "kernelspec": {
   "display_name": "Python 3",
   "language": "python",
   "name": "python3"
  },
  "language_info": {
   "codemirror_mode": {
    "name": "ipython",
    "version": 3
   },
   "file_extension": ".py",
   "mimetype": "text/x-python",
   "name": "python",
   "nbconvert_exporter": "python",
   "pygments_lexer": "ipython3",
   "version": "3.8.6"
  }
 },
 "nbformat": 4,
 "nbformat_minor": 4
}
