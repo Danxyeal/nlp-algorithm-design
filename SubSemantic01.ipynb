{
 "cells": [
  {
   "cell_type": "code",
   "execution_count": 42,
   "metadata": {
    "scrolled": false
   },
   "outputs": [],
   "source": [
    "from bs4 import BeautifulSoup\n",
    "import spacy\n",
    "import pprint\n",
    "pp = pprint.PrettyPrinter(indent=4)\n",
    "\n",
    "def get(file):\n",
    "    with open(file, 'r') as html_file:\n",
    "        lines = html_file.readlines()\n",
    "        return [l.replace('\\n','') for l in lines]\n",
    "\n",
    "def quieten(text):\n",
    "    # for ch in ['\\\\','`','*','_','{','}','[',']','(',')','>','#','+','-','.','!','$','\\'']:\n",
    "    quiet_text = str(text)\n",
    "    quiet_text = quiet_text.replace('[','')\n",
    "    quiet_text = quiet_text.replace(']','')\n",
    "    quiet_text = quiet_text.replace('}','')\n",
    "    quiet_text = quiet_text.replace('{','')\n",
    "    quiet_text = quiet_text.replace('\\'','')\n",
    "    quiet_text = quiet_text.replace('\\\"','')\n",
    "    return quiet_text "
   ]
  },
  {
   "cell_type": "code",
   "execution_count": 43,
   "metadata": {},
   "outputs": [],
   "source": [
    "read_tags = lambda soup: [\n",
    "    tag.name\n",
    "    for tag in soup.find_all()\n",
    "]\n",
    "\n",
    "read_attrs = lambda soup: [\n",
    "    tag.attrs\n",
    "    for tag in soup.find_all()\n",
    "    if not tag.attrs == {}\n",
    "]\n",
    "\n",
    "read_text = lambda soup: [\n",
    "    tag.text\n",
    "    for tag in soup.find_all()\n",
    "]"
   ]
  },
  {
   "cell_type": "code",
   "execution_count": 44,
   "metadata": {},
   "outputs": [],
   "source": [
    "'''\n",
    "soup is iterable, but soup.div isn't\n",
    "- to get a list of objs that are nested in the div go soup.div.contents\n",
    "'''\n",
    "def soup_lines(lines):\n",
    "    for text in lines:\n",
    "        return (BeautifulSoup(text, 'html.parser') for text in lines)\n",
    "\n",
    "def join_tag_to_attrs(tag, attrs):\n",
    "    ats = attrs.items()\n",
    "\n",
    "def join_parts(tags, attrs, text):\n",
    "    tag_attrs = ''\n",
    "    if tags and attrs:\n",
    "        for i in range(0, len(attrs)):\n",
    "            tag_attrs = join_tag_to_attrs(tags[i], attrs[i])\n",
    "    return ['-'.join(tags), attrs, text]"
   ]
  },
  {
   "cell_type": "code",
   "execution_count": 46,
   "metadata": {},
   "outputs": [],
   "source": [
    "def destructure_noisy_html(html_lines):\n",
    "    lines = [line.replace('\\t','') for line in html_lines]\n",
    "    tags = [read_tags(soup) for soup in soup_lines(lines)]\n",
    "    attrs = [read_attrs(soup) for soup in soup_lines(lines)]\n",
    "    text = [soup.text for soup in soup_lines(lines)]\n",
    "    return (list(map(join_parts, tags, attrs, text)))\n",
    "\n",
    "def print_html_tags_and_attributes():\n",
    "    noisy_html = get('mwave-spec-chunk.html')\n",
    "    less_noisy = destructure_noisy_html(noisy_html)\n",
    "    # pp.pprint(less_noisy)\n",
    "\n",
    "print_html_tags_and_attributes()\n",
    "\n",
    "def go_spacy():\n",
    "    nlp = spacy.load(\"en_core_web_sm\")"
   ]
  },
  {
   "cell_type": "code",
   "execution_count": null,
   "metadata": {},
   "outputs": [],
   "source": [
    "def semify(line):\n",
    "    if not line[0]:\n",
    "        line[0] = None\n",
    "    else:\n",
    "        line[0] = line[0].replace('div','divider')\n",
    "        line[0] = line[0].replace('h2','heading')\n",
    "        line[0] = line[0].replace('p','paragraph')\n",
    "    if len(line[1]) < 1:\n",
    "        line[1] = None\n",
    "    return line\n",
    "\n",
    "def main():\n",
    "    noisy_html = get('specs-chunk.html')\n",
    "    less_noisy = destructure_noisy_html(noisy_html)\n",
    "    semantic = [semify(line) for line in less_noisy]\n",
    "    # quieter = [quieten(line) for line in semantic] \n",
    "    quieter = semantic\n",
    "    pp = pprint.PrettyPrinter(indent=4)\n",
    "    #pp.pprint(quieter)\n",
    "\n",
    "if __name__ == ('__main__'):\n",
    "    main()"
   ]
  },
  {
   "cell_type": "code",
   "execution_count": null,
   "metadata": {},
   "outputs": [],
   "source": []
  }
 ],
 "metadata": {
  "celltoolbar": "Slideshow",
  "kernelspec": {
   "display_name": "Python 3",
   "language": "python",
   "name": "python3"
  },
  "language_info": {
   "codemirror_mode": {
    "name": "ipython",
    "version": 3
   },
   "file_extension": ".py",
   "mimetype": "text/x-python",
   "name": "python",
   "nbconvert_exporter": "python",
   "pygments_lexer": "ipython3",
   "version": "3.8.2"
  }
 },
 "nbformat": 4,
 "nbformat_minor": 4
}
