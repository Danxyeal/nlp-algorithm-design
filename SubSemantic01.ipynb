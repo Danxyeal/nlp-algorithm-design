{
 "cells": [
  {
   "cell_type": "code",
   "execution_count": 2,
   "metadata": {
    "scrolled": false
   },
   "outputs": [],
   "source": [
    "from bs4 import BeautifulSoup\n",
    "import pprint\n",
    "\n",
    "def get(file):\n",
    "    with open(file, 'r') as html_file:\n",
    "        lines = html_file.readlines()\n",
    "        return [l.replace('\\n','') for l in lines]\n",
    "\n",
    "def quieten(text):\n",
    "    # for ch in ['\\\\','`','*','_','{','}','[',']','(',')','>','#','+','-','.','!','$','\\'']:\n",
    "    quiet_text = str(text)\n",
    "    quiet_text = quiet_text.replace('[','')\n",
    "    quiet_text = quiet_text.replace(']','')\n",
    "    quiet_text = quiet_text.replace('}','')\n",
    "    quiet_text = quiet_text.replace('{','')\n",
    "    quiet_text = quiet_text.replace('\\'','')\n",
    "    quiet_text = quiet_text.replace('\\\"','')\n",
    "    return quiet_text "
   ]
  },
  {
   "cell_type": "code",
   "execution_count": 9,
   "metadata": {},
   "outputs": [],
   "source": [
    "read_tags = lambda soup: [\n",
    "    tag.name\n",
    "    for tag in soup.find_all()\n",
    "]\n",
    "\n",
    "read_attrs = lambda soup: [\n",
    "    tag.attrs\n",
    "    for tag in soup.find_all()\n",
    "    if not tag.attrs == {}\n",
    "]\n",
    "\n",
    "read_text = lambda soup: [\n",
    "    tag.text\n",
    "    for tag in soup.find_all()\n",
    "]"
   ]
  },
  {
   "cell_type": "code",
   "execution_count": 10,
   "metadata": {},
   "outputs": [],
   "source": [
    "'''\n",
    "soup is iterable, but soup.div isn't\n",
    "- to get a list of objs that are nested in the div go soup.div.contents\n",
    "'''\n",
    "def soup_lines(lines):\n",
    "    for text in lines:\n",
    "        return (BeautifulSoup(text, 'html.parser') for text in lines)\n",
    "\n",
    "def join_tag_to_attrs(tag, attrs):\n",
    "    ats = attrs.items()\n",
    "    print(tag, list(ats)[0])\n",
    "\n",
    "def join_parts(tags, attrs, text):\n",
    "    tag_attrs = ''\n",
    "    if tags and attrs:\n",
    "        for i in range(0,len(tags)):\n",
    "            tag_attrs = join_tag_to_attrs(tags[i], attrs[i])\n",
    "    return ['-'.join(tags), attrs, text] "
   ]
  },
  {
   "cell_type": "code",
   "execution_count": 13,
   "metadata": {},
   "outputs": [
    {
     "name": "stdout",
     "output_type": "stream",
     "text": [
      "div ('id', 'tabOverview')\n",
      "div ('class', ['overviewTop'])\n",
      "p ('class', ['skuAndModel'])\n",
      "p ('class', ['vote', 'hide'])\n",
      "a ('href', '#ProductError')\n",
      "div ('class', ['tabBlock'])\n",
      "h2 ('style', 'font-size:12px;font-weight :bold')\n",
      "dl ('style', 'color:#FF7701')\n"
     ]
    },
    {
     "ename": "IndexError",
     "evalue": "list index out of range",
     "output_type": "error",
     "traceback": [
      "\u001b[0;31m---------------------------------------------------------------------------\u001b[0m",
      "\u001b[0;31mIndexError\u001b[0m                                Traceback (most recent call last)",
      "\u001b[0;32m<ipython-input-13-0cb4f32e334b>\u001b[0m in \u001b[0;36m<module>\u001b[0;34m\u001b[0m\n\u001b[1;32m     13\u001b[0m     \u001b[0;31m#pp.pprint(less_noisy)\u001b[0m\u001b[0;34m\u001b[0m\u001b[0;34m\u001b[0m\u001b[0;34m\u001b[0m\u001b[0m\n\u001b[1;32m     14\u001b[0m \u001b[0;34m\u001b[0m\u001b[0m\n\u001b[0;32m---> 15\u001b[0;31m \u001b[0mprint_html_tags_and_attributes\u001b[0m\u001b[0;34m(\u001b[0m\u001b[0;34m)\u001b[0m\u001b[0;34m\u001b[0m\u001b[0;34m\u001b[0m\u001b[0m\n\u001b[0m",
      "\u001b[0;32m<ipython-input-13-0cb4f32e334b>\u001b[0m in \u001b[0;36mprint_html_tags_and_attributes\u001b[0;34m()\u001b[0m\n\u001b[1;32m      9\u001b[0m \u001b[0;32mdef\u001b[0m \u001b[0mprint_html_tags_and_attributes\u001b[0m\u001b[0;34m(\u001b[0m\u001b[0;34m)\u001b[0m\u001b[0;34m:\u001b[0m\u001b[0;34m\u001b[0m\u001b[0;34m\u001b[0m\u001b[0m\n\u001b[1;32m     10\u001b[0m     \u001b[0mnoisy_html\u001b[0m \u001b[0;34m=\u001b[0m \u001b[0mget\u001b[0m\u001b[0;34m(\u001b[0m\u001b[0;34m'mwave-spec-chunk.html'\u001b[0m\u001b[0;34m)\u001b[0m\u001b[0;34m\u001b[0m\u001b[0;34m\u001b[0m\u001b[0m\n\u001b[0;32m---> 11\u001b[0;31m     \u001b[0mless_noisy\u001b[0m \u001b[0;34m=\u001b[0m \u001b[0mdestructure_noisy_html\u001b[0m\u001b[0;34m(\u001b[0m\u001b[0mnoisy_html\u001b[0m\u001b[0;34m)\u001b[0m\u001b[0;34m\u001b[0m\u001b[0;34m\u001b[0m\u001b[0m\n\u001b[0m\u001b[1;32m     12\u001b[0m     \u001b[0mpp\u001b[0m \u001b[0;34m=\u001b[0m \u001b[0mpprint\u001b[0m\u001b[0;34m.\u001b[0m\u001b[0mPrettyPrinter\u001b[0m\u001b[0;34m(\u001b[0m\u001b[0mindent\u001b[0m\u001b[0;34m=\u001b[0m\u001b[0;36m4\u001b[0m\u001b[0;34m)\u001b[0m\u001b[0;34m\u001b[0m\u001b[0;34m\u001b[0m\u001b[0m\n\u001b[1;32m     13\u001b[0m     \u001b[0;31m#pp.pprint(less_noisy)\u001b[0m\u001b[0;34m\u001b[0m\u001b[0;34m\u001b[0m\u001b[0;34m\u001b[0m\u001b[0m\n",
      "\u001b[0;32m<ipython-input-13-0cb4f32e334b>\u001b[0m in \u001b[0;36mdestructure_noisy_html\u001b[0;34m(html_lines)\u001b[0m\n\u001b[1;32m      5\u001b[0m     \u001b[0mattrs\u001b[0m \u001b[0;34m=\u001b[0m \u001b[0;34m[\u001b[0m\u001b[0mread_attrs\u001b[0m\u001b[0;34m(\u001b[0m\u001b[0msoup\u001b[0m\u001b[0;34m)\u001b[0m \u001b[0;32mfor\u001b[0m \u001b[0msoup\u001b[0m \u001b[0;32min\u001b[0m \u001b[0msoup_lines\u001b[0m\u001b[0;34m(\u001b[0m\u001b[0mlines\u001b[0m\u001b[0;34m)\u001b[0m\u001b[0;34m]\u001b[0m\u001b[0;34m\u001b[0m\u001b[0;34m\u001b[0m\u001b[0m\n\u001b[1;32m      6\u001b[0m     \u001b[0mtext\u001b[0m \u001b[0;34m=\u001b[0m \u001b[0;34m[\u001b[0m\u001b[0msoup\u001b[0m\u001b[0;34m.\u001b[0m\u001b[0mtext\u001b[0m \u001b[0;32mfor\u001b[0m \u001b[0msoup\u001b[0m \u001b[0;32min\u001b[0m \u001b[0msoup_lines\u001b[0m\u001b[0;34m(\u001b[0m\u001b[0mlines\u001b[0m\u001b[0;34m)\u001b[0m\u001b[0;34m]\u001b[0m\u001b[0;34m\u001b[0m\u001b[0;34m\u001b[0m\u001b[0m\n\u001b[0;32m----> 7\u001b[0;31m     \u001b[0;32mreturn\u001b[0m \u001b[0;34m(\u001b[0m\u001b[0mlist\u001b[0m\u001b[0;34m(\u001b[0m\u001b[0mmap\u001b[0m\u001b[0;34m(\u001b[0m\u001b[0mjoin_parts\u001b[0m\u001b[0;34m,\u001b[0m \u001b[0mtags\u001b[0m\u001b[0;34m,\u001b[0m \u001b[0mattrs\u001b[0m\u001b[0;34m,\u001b[0m \u001b[0mtext\u001b[0m\u001b[0;34m)\u001b[0m\u001b[0;34m)\u001b[0m\u001b[0;34m)\u001b[0m\u001b[0;34m\u001b[0m\u001b[0;34m\u001b[0m\u001b[0m\n\u001b[0m\u001b[1;32m      8\u001b[0m \u001b[0;34m\u001b[0m\u001b[0m\n\u001b[1;32m      9\u001b[0m \u001b[0;32mdef\u001b[0m \u001b[0mprint_html_tags_and_attributes\u001b[0m\u001b[0;34m(\u001b[0m\u001b[0;34m)\u001b[0m\u001b[0;34m:\u001b[0m\u001b[0;34m\u001b[0m\u001b[0;34m\u001b[0m\u001b[0m\n",
      "\u001b[0;32m<ipython-input-10-0e6130aab716>\u001b[0m in \u001b[0;36mjoin_parts\u001b[0;34m(tags, attrs, text)\u001b[0m\n\u001b[1;32m     11\u001b[0m     \u001b[0;32mif\u001b[0m \u001b[0mtags\u001b[0m \u001b[0;32mand\u001b[0m \u001b[0mattrs\u001b[0m\u001b[0;34m:\u001b[0m\u001b[0;34m\u001b[0m\u001b[0;34m\u001b[0m\u001b[0m\n\u001b[1;32m     12\u001b[0m         \u001b[0;32mfor\u001b[0m \u001b[0mi\u001b[0m \u001b[0;32min\u001b[0m \u001b[0mrange\u001b[0m\u001b[0;34m(\u001b[0m\u001b[0;36m0\u001b[0m\u001b[0;34m,\u001b[0m\u001b[0mlen\u001b[0m\u001b[0;34m(\u001b[0m\u001b[0mtags\u001b[0m\u001b[0;34m)\u001b[0m\u001b[0;34m)\u001b[0m\u001b[0;34m:\u001b[0m\u001b[0;34m\u001b[0m\u001b[0;34m\u001b[0m\u001b[0m\n\u001b[0;32m---> 13\u001b[0;31m             \u001b[0mtag_attrs\u001b[0m \u001b[0;34m=\u001b[0m \u001b[0mjoin_tag_to_attrs\u001b[0m\u001b[0;34m(\u001b[0m\u001b[0mtags\u001b[0m\u001b[0;34m[\u001b[0m\u001b[0mi\u001b[0m\u001b[0;34m]\u001b[0m\u001b[0;34m,\u001b[0m \u001b[0mattrs\u001b[0m\u001b[0;34m[\u001b[0m\u001b[0mi\u001b[0m\u001b[0;34m]\u001b[0m\u001b[0;34m)\u001b[0m\u001b[0;34m\u001b[0m\u001b[0;34m\u001b[0m\u001b[0m\n\u001b[0m\u001b[1;32m     14\u001b[0m     \u001b[0;32mreturn\u001b[0m \u001b[0;34m[\u001b[0m\u001b[0;34m'-'\u001b[0m\u001b[0;34m.\u001b[0m\u001b[0mjoin\u001b[0m\u001b[0;34m(\u001b[0m\u001b[0mtags\u001b[0m\u001b[0;34m)\u001b[0m\u001b[0;34m,\u001b[0m \u001b[0mattrs\u001b[0m\u001b[0;34m,\u001b[0m \u001b[0mtext\u001b[0m\u001b[0;34m]\u001b[0m\u001b[0;34m\u001b[0m\u001b[0;34m\u001b[0m\u001b[0m\n",
      "\u001b[0;31mIndexError\u001b[0m: list index out of range"
     ]
    }
   ],
   "source": [
    "def destructure_noisy_html(html_lines):\n",
    "\n",
    "    lines = [line.replace('\\t','') for line in html_lines]\n",
    "    tags = [read_tags(soup) for soup in soup_lines(lines)]\n",
    "    attrs = [read_attrs(soup) for soup in soup_lines(lines)]\n",
    "    text = [soup.text for soup in soup_lines(lines)]\n",
    "    return (list(map(join_parts, tags, attrs, text)))\n",
    "\n",
    "def print_html_tags_and_attributes():\n",
    "    noisy_html = get('mwave-spec-chunk.html')\n",
    "    less_noisy = destructure_noisy_html(noisy_html)\n",
    "    pp = pprint.PrettyPrinter(indent=4)\n",
    "    #pp.pprint(less_noisy)\n",
    "\n",
    "print_html_tags_and_attributes()"
   ]
  },
  {
   "cell_type": "code",
   "execution_count": null,
   "metadata": {},
   "outputs": [],
   "source": [
    "def semify(line):\n",
    "    if not line[0]:\n",
    "        line[0] = None\n",
    "    else:\n",
    "        line[0] = line[0].replace('div','divider')\n",
    "        line[0] = line[0].replace('h2','heading')\n",
    "        line[0] = line[0].replace('p','paragraph')\n",
    "    if len(line[1]) < 1:\n",
    "        line[1] = None\n",
    "    return line\n",
    "\n",
    "def main():\n",
    "    noisy_html = get('specs-chunk.html')\n",
    "    less_noisy = destructure_noisy_html(noisy_html)\n",
    "    semantic = [semify(line) for line in less_noisy]\n",
    "    # quieter = [quieten(line) for line in semantic] \n",
    "    quieter = semantic\n",
    "    pp = pprint.PrettyPrinter(indent=4)\n",
    "    #pp.pprint(quieter)\n",
    "\n",
    "if __name__ == ('__main__'):\n",
    "    main()"
   ]
  }
 ],
 "metadata": {
  "celltoolbar": "Slideshow",
  "kernelspec": {
   "display_name": "Python 3",
   "language": "python",
   "name": "python3"
  },
  "language_info": {
   "codemirror_mode": {
    "name": "ipython",
    "version": 3
   },
   "file_extension": ".py",
   "mimetype": "text/x-python",
   "name": "python",
   "nbconvert_exporter": "python",
   "pygments_lexer": "ipython3",
   "version": "3.8.2"
  }
 },
 "nbformat": 4,
 "nbformat_minor": 4
}
